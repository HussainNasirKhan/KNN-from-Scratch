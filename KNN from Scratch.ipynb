{
 "cells": [
  {
   "cell_type": "markdown",
   "id": "3fa98f25",
   "metadata": {},
   "source": [
    "# Step 1: Read Images from Directory"
   ]
  },
  {
   "cell_type": "code",
   "execution_count": 66,
   "id": "fa448c0c",
   "metadata": {},
   "outputs": [],
   "source": [
    "import cv2 \n",
    "import os \n",
    "import glob \n",
    "img_dir = \"C:\\\\Users\\\\engrh\\\\Deep Learning (MS)\\\\images\" # Enter Directory of all images  \n",
    "data_path = os.path.join(img_dir,'*g') \n",
    "files = glob.glob(data_path) \n",
    "data = [] \n",
    "for f1 in files: \n",
    "    img = cv2.imread(f1) \n",
    "    data.append(img) "
   ]
  },
  {
   "cell_type": "markdown",
   "id": "bf3443c8",
   "metadata": {},
   "source": [
    "# Step 2: Read Labels from CSV file"
   ]
  },
  {
   "cell_type": "code",
   "execution_count": 67,
   "id": "e3c39396",
   "metadata": {},
   "outputs": [
    {
     "data": {
      "text/plain": [
       "(20, 1)"
      ]
     },
     "execution_count": 67,
     "metadata": {},
     "output_type": "execute_result"
    }
   ],
   "source": [
    "import pandas as pd\n",
    "import numpy as np\n",
    "labels = pd.read_csv(\"labels.csv\")\n",
    "labels = np.array(labels)\n",
    "labels.shape"
   ]
  },
  {
   "cell_type": "markdown",
   "id": "2a9dfb8f",
   "metadata": {},
   "source": [
    "# Step 3: Prepare the Data"
   ]
  },
  {
   "cell_type": "markdown",
   "id": "75601dbe",
   "metadata": {},
   "source": [
    "- Convert the data into NumPy array"
   ]
  },
  {
   "cell_type": "code",
   "execution_count": 68,
   "id": "e67a24bf",
   "metadata": {},
   "outputs": [
    {
     "name": "stdout",
     "output_type": "stream",
     "text": [
      "<class 'numpy.ndarray'>\n",
      "(20, 300, 300, 3)\n"
     ]
    }
   ],
   "source": [
    "import numpy as np\n",
    "data = np.array(data)\n",
    "print(type(data))\n",
    "print(data.shape)"
   ]
  },
  {
   "cell_type": "markdown",
   "id": "2c97d01a",
   "metadata": {},
   "source": [
    "- Flatten and reshape the data"
   ]
  },
  {
   "cell_type": "code",
   "execution_count": 69,
   "id": "8be93159",
   "metadata": {},
   "outputs": [
    {
     "name": "stdout",
     "output_type": "stream",
     "text": [
      "(20, 270000)\n"
     ]
    }
   ],
   "source": [
    "data = data.flatten().reshape(20, 270000)\n",
    "print(data.shape)"
   ]
  },
  {
   "cell_type": "markdown",
   "id": "4c797147",
   "metadata": {},
   "source": [
    "- Save data as X and labels as y"
   ]
  },
  {
   "cell_type": "code",
   "execution_count": 70,
   "id": "068fc08b",
   "metadata": {},
   "outputs": [],
   "source": [
    "X = data\n",
    "y = labels"
   ]
  },
  {
   "cell_type": "markdown",
   "id": "b9dca0a1",
   "metadata": {},
   "source": [
    "# Step 4: Split the data into train and test"
   ]
  },
  {
   "cell_type": "code",
   "execution_count": 71,
   "id": "029fac4b",
   "metadata": {},
   "outputs": [],
   "source": [
    "from sklearn.model_selection import train_test_split\n",
    "X_train, X_test, y_train, y_test = train_test_split(X, y, test_size=0.2, random_state=0)"
   ]
  },
  {
   "cell_type": "code",
   "execution_count": 72,
   "id": "20a4578c",
   "metadata": {},
   "outputs": [
    {
     "name": "stdout",
     "output_type": "stream",
     "text": [
      "(16, 270000)\n",
      "(4, 270000)\n",
      "(16, 1)\n",
      "(4, 1)\n"
     ]
    }
   ],
   "source": [
    "print(X_train.shape)\n",
    "print(X_test.shape)\n",
    "print(y_train.shape)\n",
    "print(y_test.shape)"
   ]
  },
  {
   "cell_type": "markdown",
   "id": "ed191d1c",
   "metadata": {},
   "source": [
    "# Step 5: KNN from Scratch"
   ]
  },
  {
   "cell_type": "code",
   "execution_count": 73,
   "id": "60c4cc5f",
   "metadata": {},
   "outputs": [],
   "source": [
    "import numpy as np\n",
    "import pandas as pd\n",
    "import matplotlib.pyplot as plt\n",
    "from scipy import stats\n",
    "from matplotlib import rcParams\n",
    "rcParams['axes.spines.top'] = False\n",
    "rcParams['axes.spines.right'] = False"
   ]
  },
  {
   "cell_type": "code",
   "execution_count": 74,
   "id": "3477d9a2",
   "metadata": {},
   "outputs": [],
   "source": [
    "class KNN:\n",
    "    def __init__(self, k=3):\n",
    "        self.k = k\n",
    "        self.X_train = None\n",
    "        self.y_train = None\n",
    "        \n",
    "    @staticmethod\n",
    "    def _euclidean_distance(p, q):\n",
    "        return np.sqrt(np.sum((p - q) ** 2))\n",
    "        \n",
    "    def fit(self, X, y):\n",
    "        self.X_train = X\n",
    "        self.y_train = y\n",
    "        \n",
    "    def predict(self, X):\n",
    "        predictions = []\n",
    "        for p in X:\n",
    "            euc_distances = [self._euclidean_distance(p, q) for q in self.X_train]\n",
    "            sorted_k = np.argsort(euc_distances)[:self.k]\n",
    "            k_nearest = [self.y_train[y] for y in sorted_k]\n",
    "            predictions.append(stats.mode(k_nearest)[0][0])\n",
    "            \n",
    "        return np.array(predictions)"
   ]
  },
  {
   "cell_type": "markdown",
   "id": "5f10baf2",
   "metadata": {},
   "source": [
    "# Step 6: Prediction"
   ]
  },
  {
   "cell_type": "code",
   "execution_count": 75,
   "id": "84558788",
   "metadata": {},
   "outputs": [],
   "source": [
    "model = KNN()\n",
    "model.fit(X_train, y_train)\n",
    "preds = model.predict(X_test)"
   ]
  },
  {
   "cell_type": "code",
   "execution_count": 76,
   "id": "e3f00372",
   "metadata": {},
   "outputs": [
    {
     "data": {
      "text/plain": [
       "array([[0],\n",
       "       [1],\n",
       "       [1],\n",
       "       [0]], dtype=int64)"
      ]
     },
     "execution_count": 76,
     "metadata": {},
     "output_type": "execute_result"
    }
   ],
   "source": [
    "preds"
   ]
  },
  {
   "cell_type": "markdown",
   "id": "b79e9618",
   "metadata": {},
   "source": [
    "# Step 7: Accuracy"
   ]
  },
  {
   "cell_type": "code",
   "execution_count": 77,
   "id": "f739fc4c",
   "metadata": {},
   "outputs": [
    {
     "data": {
      "text/plain": [
       "0.5"
      ]
     },
     "execution_count": 77,
     "metadata": {},
     "output_type": "execute_result"
    }
   ],
   "source": [
    "from sklearn.metrics import accuracy_score\n",
    "\n",
    "accuracy_score(y_test, preds)"
   ]
  },
  {
   "cell_type": "markdown",
   "id": "bf0c3f58",
   "metadata": {},
   "source": [
    "# Step 8: Confusion Matrix"
   ]
  },
  {
   "cell_type": "code",
   "execution_count": 78,
   "id": "40e14a23",
   "metadata": {},
   "outputs": [
    {
     "data": {
      "text/plain": [
       "Text(0.5, 1.0, 'Accuracy Score: 0.5')"
      ]
     },
     "execution_count": 78,
     "metadata": {},
     "output_type": "execute_result"
    },
    {
     "data": {
      "image/png": "[encoded data removed]",
      "text/plain": [
       "<Figure size 648x648 with 2 Axes>"
      ]
     },
     "metadata": {
      "needs_background": "light"
     },
     "output_type": "display_data"
    }
   ],
   "source": [
    "# to create nice confusion metrics\n",
    "from sklearn.metrics import confusion_matrix\n",
    "import seaborn as sns\n",
    "import matplotlib.pyplot as plt\n",
    "cm = confusion_matrix(y_test,preds)\n",
    "plt.figure(figsize=(9,9))\n",
    "sns.heatmap(cm,annot=True, fmt='.3f', linewidths=.5, square=True,cmap='Blues_r')\n",
    "plt.ylabel('Actual label')\n",
    "plt.xlabel('Predicted label')\n",
    "all_sample_title = 'Accuracy Score: {0}'.format(accuracy_score(y_test,preds))\n",
    "plt.title(all_sample_title,size=15)"
   ]
  },
  {
   "cell_type": "code",
   "execution_count": null,
   "id": "b4aa88c9",
   "metadata": {},
   "outputs": [],
   "source": []
  }
 ],
 "metadata": {
  "kernelspec": {
   "display_name": "Python 3 (ipykernel)",
   "language": "python",
   "name": "python3"
  },
  "language_info": {
   "codemirror_mode": {
    "name": "ipython",
    "version": 3
   },
   "file_extension": ".py",
   "mimetype": "text/x-python",
   "name": "python",
   "nbconvert_exporter": "python",
   "pygments_lexer": "ipython3",
   "version": "3.9.7"
  }
 },
 "nbformat": 4,
 "nbformat_minor": 5
}
